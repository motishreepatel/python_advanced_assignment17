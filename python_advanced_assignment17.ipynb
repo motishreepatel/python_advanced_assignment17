{
 "cells": [
  {
   "cell_type": "code",
   "execution_count": 2,
   "metadata": {},
   "outputs": [
    {
     "name": "stdout",
     "output_type": "stream",
     "text": [
      "Greedy match: Hello, Wo\n",
      "Non-greedy match: Hello\n"
     ]
    }
   ],
   "source": [
    "'''Q1 - Explain the difference between greedy and non-greedy syntax with visual terms in as few words\n",
    "as possible. What is the bare minimum effort required to transform a greedy pattern into a non-greedy\n",
    "one? What characters or characters can you introduce or change?'''\n",
    "#Answer:\n",
    "'''The difference between greedy and non-greedy syntax in regular expressions is related to how they match patterns:\n",
    "\n",
    "- Greedy: Matches as much as possible, trying to match the longest possible substring that satisfies the pattern.\n",
    "\n",
    "- Non-greedy: Matches as little as possible, trying to match the shortest possible substring that satisfies the pattern.\n",
    "\n",
    "To transform a greedy pattern into a non-greedy one, you can introduce or change a single character: ?.\n",
    "\n",
    "By adding a ? after a quantifier (*, +, ?, {m,n}), you can change it from greedy to non-greedy (or vice versa).'''\n",
    "\n",
    "#Exp:\n",
    "import re\n",
    "\n",
    "text = 'Hello, World!'\n",
    "\n",
    "# Greedy pattern\n",
    "greedy_pattern = r'H.*o'\n",
    "greedy_match = re.search(greedy_pattern, text)\n",
    "print('Greedy match:', greedy_match.group()) \n",
    "\n",
    "# Non-greedy pattern\n",
    "non_greedy_pattern = r'H.*?o'\n",
    "non_greedy_match = re.search(non_greedy_pattern, text)\n",
    "print('Non-greedy match:', non_greedy_match.group())"
   ]
  },
  {
   "cell_type": "code",
   "execution_count": 4,
   "metadata": {},
   "outputs": [
    {
     "name": "stdout",
     "output_type": "stream",
     "text": [
      "Greedy match: Hello, Wo\n",
      "Non-greedy match: Hello\n"
     ]
    }
   ],
   "source": [
    "#Q2 - When exactly does greedy versus non-greedy make a difference?  What if you&#39;re looking for a non-greedy match but the only one available is greedy?\n",
    "#Answer:\n",
    "'''The difference between greedy and non-greedy matching in regular expressions becomes significant when there are multiple possible \n",
    "matches within the given text.\n",
    "\n",
    "Greedy matching, as mentioned before, aims to match the longest possible substring that satisfies the pattern. On the other hand, \n",
    "non-greedy matching seeks to match the shortest possible substring that satisfies the pattern.'''\n",
    "\n",
    "#Exp:\n",
    "import re\n",
    "\n",
    "text = 'Hello, World! This is a test.'\n",
    "\n",
    "greedy_pattern = r'H.*o'\n",
    "greedy_match = re.search(greedy_pattern, text)\n",
    "print('Greedy match:', greedy_match.group())\n",
    "\n",
    "non_greedy_pattern = r'H.*?o'\n",
    "non_greedy_match = re.search(non_greedy_pattern, text)\n",
    "print('Non-greedy match:', non_greedy_match.group())\n",
    "\n"
   ]
  },
  {
   "cell_type": "code",
   "execution_count": 6,
   "metadata": {},
   "outputs": [
    {
     "name": "stdout",
     "output_type": "stream",
     "text": [
      "Match with group: Hello, World!\n",
      "Match without group: Hello, World!\n"
     ]
    }
   ],
   "source": [
    "#Q3 - In a simple match of a string, which looks only for one match and does not do any replacement, is the use of a nontagged group likely to make any practical difference?\n",
    "#Answer:\n",
    "'''In a simple match of a string where you are only looking for one match and not performing any replacements, the use of a non-tagged group \n",
    "(a group without capturing parentheses) does not make any practical difference in terms of the final result or the match itself.\n",
    "\n",
    "A non-tagged group is a group in a regular expression pattern that is used for grouping but does not capture the matched substring. \n",
    "It is denoted by using a non-capturing parentheses (?:...) or by omitting the parentheses altogether.'''\n",
    "\n",
    "#Exp:\n",
    "import re\n",
    "\n",
    "text = 'Hello, World!'\n",
    "\n",
    "# Pattern with non-tagged group\n",
    "pattern_with_group = r'Hello(?:, World)!'\n",
    "match_with_group = re.search(pattern_with_group, text)\n",
    "print('Match with group:', match_with_group.group())\n",
    "\n",
    "# Pattern without group\n",
    "pattern_without_group = r'Hello, World!'\n",
    "match_without_group = re.search(pattern_without_group, text)\n",
    "print('Match without group:', match_without_group.group())\n"
   ]
  },
  {
   "cell_type": "code",
   "execution_count": 8,
   "metadata": {},
   "outputs": [
    {
     "name": "stdout",
     "output_type": "stream",
     "text": [
      "Matches with group: [('3', 'cats'), ('5', 'dogs')]\n",
      "Matches with non-tagged group: ['3 cats', '5 dogs']\n"
     ]
    }
   ],
   "source": [
    "#Q4 - Describe a scenario in which using a nontagged category would have a significant impact on the program&#39;s outcomes.\n",
    "#Answer:\n",
    "'''One scenario where using a non-tagged category (a non-capturing group) in a regular expression can have a significant impact on the program's \n",
    "outcomes is when using the re.findall() function.\n",
    "\n",
    "The re.findall() function returns all non-overlapping matches of a pattern in a string as a list of strings. When capturing groups are \n",
    "used in the pattern, re.findall() returns only the captured groups rather than the full matching substrings. However, by using \n",
    "non-tagged groups, you can control whether a group should be included in the results or not.'''\n",
    "\n",
    "#Exp:\n",
    "import re\n",
    "\n",
    "text = 'I have 3 cats and 5 dogs.'\n",
    "\n",
    "# Pattern with tagged group\n",
    "pattern_with_group = r'(\\d+) (cats|dogs)'\n",
    "matches_with_group = re.findall(pattern_with_group, text)\n",
    "print('Matches with group:', matches_with_group)\n",
    "\n",
    "# Pattern with non-tagged group\n",
    "pattern_with_non_tagged_group = r'\\d+ (?:cats|dogs)'\n",
    "matches_with_non_tagged_group = re.findall(pattern_with_non_tagged_group, text)\n",
    "print('Matches with non-tagged group:', matches_with_non_tagged_group)\n"
   ]
  },
  {
   "cell_type": "code",
   "execution_count": 9,
   "metadata": {},
   "outputs": [
    {
     "name": "stdout",
     "output_type": "stream",
     "text": [
      "['I love eating apple', 'The apple']\n"
     ]
    }
   ],
   "source": [
    "#Q5 - Unlike a normal regex pattern, a look-ahead condition does not consume the characters it examines. Describe a situation in which this could make a difference in the results of your programme.\n",
    "#Answer:\n",
    "'''The non-consuming nature of a look-ahead condition in a regular expression can make a difference in the results of a program in various \n",
    "situations where you need to assert a certain condition without actually consuming the characters being examined. Here's an example scenario:\n",
    "\n",
    "Let's say you have a text file containing multiple lines, and you want to extract all the lines that contain the word \"apple\" followed by \n",
    "the word \"pie\". However, you don't want to include the word \"pie\" in the extracted lines.'''\n",
    "\n",
    "#Exp:\n",
    "import re\n",
    "\n",
    "text = '''\n",
    "I love eating apple pie.\n",
    "The apple pie is delicious.\n",
    "I enjoy baking apple strudel.\n",
    "'''\n",
    "\n",
    "pattern = r'.*apple(?=\\spie)'\n",
    "matches = re.findall(pattern, text)\n",
    "print(matches)\n"
   ]
  },
  {
   "cell_type": "code",
   "execution_count": 11,
   "metadata": {},
   "outputs": [
    {
     "name": "stdout",
     "output_type": "stream",
     "text": [
      "Matched: apple\n"
     ]
    }
   ],
   "source": [
    "#Q6 - In standard expressions, what is the difference between positive look-ahead and negative look- ahead?\n",
    "#Answer:\n",
    "'''In regular expressions, positive look-ahead and negative look-ahead are two types of look-ahead assertions that allow you to specify conditions \n",
    "that must (positive) or must not (negative) be true following a specific pattern.\n",
    "\n",
    "Here's the difference between positive look-ahead ((?=...)) and negative look-ahead ((?!...)) in regular expressions:\n",
    "\n",
    "1. Positive Look-ahead ((?=...)):\n",
    "Positive look-ahead is used to assert that a specific pattern must be followed by another pattern. It checks whether the subexpression within \n",
    "the look-ahead, represented by ..., matches the input immediately after the current position, without consuming the characters. If the \n",
    "look-ahead condition is met, the match proceeds.'''\n",
    "\n",
    "#Exp:\n",
    "import re\n",
    "\n",
    "text = 'apple pie'\n",
    "\n",
    "# Positive look-ahead\n",
    "pattern = r'apple(?=\\spie)'\n",
    "match = re.search(pattern, text)\n",
    "if match:\n",
    "    print('Matched:', match.group())\n",
    "\n",
    "'''2. Negative Look-ahead ((?!...)):\n",
    "Negative look-ahead is used to assert that a specific pattern must not be followed by another pattern. It checks whether the subexpression \n",
    "within the look-ahead, represented by ..., does not match the input immediately after the current position. If the negative look-ahead \n",
    "condition is satisfied (the subexpression does not match), the match proceeds.'''\n",
    "\n",
    "#Exp:\n",
    "import re\n",
    "\n",
    "text = 'apple pie'\n",
    "\n",
    "# Negative look-ahead\n",
    "pattern = r'apple(?!.*pie)'\n",
    "match = re.search(pattern, text)\n",
    "if match:\n",
    "    print('Matched:', match.group()) \n"
   ]
  },
  {
   "cell_type": "code",
   "execution_count": 13,
   "metadata": {},
   "outputs": [
    {
     "name": "stdout",
     "output_type": "stream",
     "text": [
      "Name: John Doe\n",
      "Age: 30\n",
      "Name: John Doe\n",
      "Age: 30\n"
     ]
    }
   ],
   "source": [
    "#Q7 - What is the benefit of referring to groups by name rather than by number in a standard expression?\n",
    "#Answer:\n",
    "'''Referring to groups by name instead of by number in a regular expression offers several benefits:\n",
    "\n",
    "1. Improved Readability: Using named groups makes the regular expression more readable and self-explanatory. Group names can provide \n",
    "meaningful labels or identifiers that describe the captured content, making it easier to understand the purpose of each group.\n",
    "\n",
    "2. Enhanced Maintenance: Named groups can simplify maintenance and modifications of regular expressions. When the pattern needs to be \n",
    "updated or extended, using named groups allows you to refer to the captured content by their logical names, which reduces the risk of errors \n",
    "and makes it easier to understand the changes being made.\n",
    "\n",
    "3. Avoidance of Group Order Dependency: When using numbered groups, the order of the groups matters. If the pattern is modified and the \n",
    "group positions change, it may require updating the referencing code accordingly. However, named groups eliminate this dependency on group \n",
    "positions, as the references are based on the group names instead.\n",
    "\n",
    "4. Clearer Code Intention: Named groups make the code more expressive and convey the intention of the regular expression. By using named groups, \n",
    "it becomes evident which specific captured content is being accessed or manipulated, enhancing code clarity.\n",
    "\n",
    "5. Simpler Code Adaptation: If the regular expression pattern is used in different contexts or scenarios, using named groups allows for easier \n",
    "adaptation and reuse of the pattern. By referencing groups by name, you can access the captured content consistently, regardless of its \n",
    "position within the pattern.'''\n",
    "\n",
    "#Exp:\n",
    "import re\n",
    "\n",
    "text = 'John Doe, age 30'\n",
    "\n",
    "# Using named groups\n",
    "pattern_with_names = r'(?P<name>[A-Za-z ]+), age (?P<age>\\d+)'\n",
    "match_with_names = re.match(pattern_with_names, text)\n",
    "print('Name:', match_with_names.group('name')) \n",
    "print('Age:', match_with_names.group('age'))\n",
    "\n",
    "# Using numbered groups\n",
    "pattern_with_numbers = r'([A-Za-z ]+), age (\\d+)'\n",
    "match_with_numbers = re.match(pattern_with_numbers, text)\n",
    "print('Name:', match_with_numbers.group(1))  \n",
    "print('Age:', match_with_numbers.group(2)) \n"
   ]
  },
  {
   "cell_type": "code",
   "execution_count": 19,
   "metadata": {},
   "outputs": [
    {
     "name": "stdout",
     "output_type": "stream",
     "text": [
      "['the']\n"
     ]
    }
   ],
   "source": [
    "#Q8 - Can you identify repeated items within a target string using named groups, as in &quot;The cow jumped over the moon&quot;?\n",
    "#Answer:\n",
    "'''Yes, you can identify repeated items within a target string using named groups in regular expressions. You can define a named group and \n",
    "then refer to it later within the pattern to check for repeated occurrences of the same content.'''\n",
    "\n",
    "#Exp:\n",
    "import re\n",
    "\n",
    "text = \"the cow jumped over the moon\"\n",
    "\n",
    "pattern = r'(?P<word>\\b\\w+\\b)(?=.*\\b\\1\\b)'\n",
    "matches = re.findall(pattern, text)\n",
    "\n",
    "print(matches)  # Output: ['the']\n"
   ]
  },
  {
   "cell_type": "code",
   "execution_count": null,
   "metadata": {},
   "outputs": [],
   "source": [
    "#Q9 - When parsing a string, what is at least one thing that the Scanner interface does for you that the re.findall feature does not?\n",
    "#Answer:\n",
    "When parsing a string, the Scanner interface in Java provides a feature that re.findall() in Python does not inherently offer: the ability to \n",
    "work with different token types and perform more complex parsing operations.\n",
    "\n",
    "Here are some things that the Scanner interface in Java offers beyond what re.findall() provides:\n",
    "\n",
    "1. Tokenization: The Scanner interface allows you to tokenize a string by breaking it into smaller units called tokens. You can specify \n",
    "delimiters or regular expressions to define the token boundaries, making it easier to process and analyze the string based on specific token \n",
    "types.\n",
    "\n",
    "2. Token-based parsing: With the Scanner interface, you can parse and process different token types individually. It provides methods like \n",
    "next(), nextInt(), nextFloat(), etc., to read and parse tokens based on their expected data types. This enables you to handle different \n",
    "data types more easily during parsing operations.\n",
    "\n",
    "3. Advanced parsing operations: The Scanner interface offers additional functionality for parsing, such as skipping patterns, setting \n",
    "custom locale and radix, and retrieving match results. It allows you to perform more complex parsing operations beyond simple matching \n",
    "and extraction, such as skipping certain patterns, controlling parsing behavior, and accessing detailed information about the matching process."
   ]
  },
  {
   "cell_type": "code",
   "execution_count": null,
   "metadata": {},
   "outputs": [],
   "source": [
    "#Q10 - Does a scanner object have to be named scanner?\n",
    "#Answer:\n",
    "No, a Scanner object does not have to be named \"scanner.\" The choice of variable name is up to the programmer and can be any valid variable \n",
    "identifier as per the programming language's naming rules."
   ]
  }
 ],
 "metadata": {
  "kernelspec": {
   "display_name": "Python 3.9.6 64-bit",
   "language": "python",
   "name": "python3"
  },
  "language_info": {
   "codemirror_mode": {
    "name": "ipython",
    "version": 3
   },
   "file_extension": ".py",
   "mimetype": "text/x-python",
   "name": "python",
   "nbconvert_exporter": "python",
   "pygments_lexer": "ipython3",
   "version": "3.9.6"
  },
  "orig_nbformat": 4,
  "vscode": {
   "interpreter": {
    "hash": "31f2aee4e71d21fbe5cf8b01ff0e069b9275f58929596ceb00d14d90e3e16cd6"
   }
  }
 },
 "nbformat": 4,
 "nbformat_minor": 2
}
